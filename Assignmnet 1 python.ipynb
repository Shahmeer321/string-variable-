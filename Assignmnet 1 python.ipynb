{
 "cells": [
  {
   "cell_type": "code",
   "execution_count": 6,
   "metadata": {
    "scrolled": true
   },
   "outputs": [
    {
     "name": "stdout",
     "output_type": "stream",
     "text": [
      "Enter radius0.5\n",
      "Area of circle = \n",
      "0.7855\n"
     ]
    }
   ],
   "source": [
    "# program 1\n",
    "r=float (input(\"Enter radius\"))\n",
    "A=3.142*(pow(r,2))\n",
    "print(\"Area of circle = \")\n",
    "print(A)"
   ]
  },
  {
   "cell_type": "code",
   "execution_count": 11,
   "metadata": {},
   "outputs": [
    {
     "name": "stdout",
     "output_type": "stream",
     "text": [
      "Enter number0\n",
      "Zero entered\n"
     ]
    }
   ],
   "source": [
    "#program 2\n",
    "num=int(input(\"Enter number\"))\n",
    "if num>0:\n",
    "    print(\"Positive Number Entered\")\n",
    "elif num<0:\n",
    "        print(\"Negative Number Entered\")\n",
    "else:\n",
    "            print(\"Zero entered\")"
   ]
  },
  {
   "cell_type": "code",
   "execution_count": 12,
   "metadata": {},
   "outputs": [
    {
     "name": "stdout",
     "output_type": "stream",
     "text": [
      "Enter number-1\n",
      "Negative Number Entered\n"
     ]
    }
   ],
   "source": [
    "#program 2\n",
    "num=int(input(\"Enter number\"))\n",
    "if num>0:\n",
    "    print(\"Positive Number Entered\")\n",
    "elif num<0:\n",
    "        print(\"Negative Number Entered\")\n",
    "else:\n",
    "            print(\"Zero entered\")"
   ]
  },
  {
   "cell_type": "code",
   "execution_count": 13,
   "metadata": {},
   "outputs": [
    {
     "name": "stdout",
     "output_type": "stream",
     "text": [
      "Enter number3\n",
      "Positive Number Entered\n"
     ]
    }
   ],
   "source": [
    "#program 2\n",
    "num=int(input(\"Enter number\"))\n",
    "if num>0:\n",
    "    print(\"Positive Number Entered\")\n",
    "elif num<0:\n",
    "        print(\"Negative Number Entered\")\n",
    "else:\n",
    "            print(\"Zero entered\")"
   ]
  },
  {
   "cell_type": "code",
   "execution_count": 14,
   "metadata": {},
   "outputs": [
    {
     "name": "stdout",
     "output_type": "stream",
     "text": [
      "Enter numerator4\n",
      "Enter denominator2\n",
      "Numerator is divisible by denominator\n"
     ]
    }
   ],
   "source": [
    "#program 3\n",
    "n=int(input(\"Enter numerator\"))\n",
    "d=int(input(\"Enter denominator\"))\n",
    "\n",
    "if n%d==0:\n",
    "    print(\"Numerator is divisible by denominator\")\n",
    "else:\n",
    "    print(\"Numerator is not divisible by denominator\")"
   ]
  },
  {
   "cell_type": "code",
   "execution_count": 15,
   "metadata": {},
   "outputs": [
    {
     "name": "stdout",
     "output_type": "stream",
     "text": [
      "Enter numerator: 7\n",
      "Enter denominator: 4\n",
      "Numerator is not divisible by denominator\n"
     ]
    }
   ],
   "source": [
    "#program 3\n",
    "n=int(input(\"Enter numerator: \"))\n",
    "d=int(input(\"Enter denominator: \"))\n",
    "\n",
    "if n%d==0:\n",
    "    print(\"Numerator is divisible by denominator\")\n",
    "else:\n",
    "    print(\"Numerator is not divisible by denominator\")"
   ]
  },
  {
   "cell_type": "code",
   "execution_count": 16,
   "metadata": {},
   "outputs": [
    {
     "name": "stdout",
     "output_type": "stream",
     "text": [
      "Enter Radius: 1\n",
      "Volume of sphere =\n",
      "4.189333333333333\n"
     ]
    }
   ],
   "source": [
    "#program 5\n",
    "r=int(input(\"Enter Radius: \"))\n",
    "v=4/3*3.142*pow(r,3)\n",
    "print(\"Volume of sphere =\")\n",
    "print(v)"
   ]
  },
  {
   "cell_type": "code",
   "execution_count": 17,
   "metadata": {},
   "outputs": [
    {
     "name": "stdout",
     "output_type": "stream",
     "text": [
      "Enter String: hi\n",
      "Enter no. of copies wanted : 4\n",
      "hihihihi\n"
     ]
    }
   ],
   "source": [
    "#program 6\n",
    "a=input(\"Enter String: \")\n",
    "n=int(input(\"Enter no. of copies wanted : \"))\n",
    "str_copy=a*n\n",
    "print(str_copy)\n"
   ]
  },
  {
   "cell_type": "code",
   "execution_count": 19,
   "metadata": {},
   "outputs": [
    {
     "name": "stdout",
     "output_type": "stream",
     "text": [
      "Enter number: 4\n",
      "4 is even\n"
     ]
    }
   ],
   "source": [
    "#program 7\n",
    "num=int(input(\"Enter number: \"))\n",
    "if num%2==0:\n",
    "    print(str(num)+\" is even\")\n",
    "elif num%2!=0:\n",
    "    print(str(num)+\" is odd\")"
   ]
  },
  {
   "cell_type": "code",
   "execution_count": 20,
   "metadata": {},
   "outputs": [
    {
     "name": "stdout",
     "output_type": "stream",
     "text": [
      "Enter number: 9\n",
      "9 is odd\n"
     ]
    }
   ],
   "source": [
    "#program 7\n",
    "num=int(input(\"Enter number: \"))\n",
    "if num%2==0:\n",
    "    print(str(num)+\" is even\")\n",
    "elif num%2!=0:\n",
    "    print(str(num)+\" is odd\")"
   ]
  },
  {
   "cell_type": "code",
   "execution_count": null,
   "metadata": {},
   "outputs": [],
   "source": [
    "#program 8\n",
    "l=input(\"Enter letter: \")\n",
    "if l=='A' or l=='E' or l=='I' or l=='O' or l=='U'or l=='a' or l=='e' or l=='i' or l=='o'or l=='u':\n",
    "    print(\"Letter \"+l+\" is a vowel\")\n",
    "else:\n",
    "    print(\"Letter \"+1+\" is not a vowel\")"
   ]
  },
  {
   "cell_type": "code",
   "execution_count": 22,
   "metadata": {},
   "outputs": [
    {
     "name": "stdout",
     "output_type": "stream",
     "text": [
      "Enter letter: e\n",
      "Letter e is a vowel\n"
     ]
    }
   ],
   "source": [
    "#program 8\n",
    "l=input(\"Enter letter: \")\n",
    "if l=='A' or l=='E' or l=='I' or l=='O' or l=='U'or l=='a' or l=='e' or l=='i' or l=='o'or l=='u':\n",
    "    print(\"Letter \"+l+\" is a vowel\")\n",
    "else:\n",
    "    print(\"Letter \"+1+\" is not a vowel\")"
   ]
  },
  {
   "cell_type": "code",
   "execution_count": 24,
   "metadata": {},
   "outputs": [
    {
     "name": "stdout",
     "output_type": "stream",
     "text": [
      "Enter letter: N\n",
      "Letter N is not a vowel\n"
     ]
    }
   ],
   "source": [
    "#program 8\n",
    "l=input(\"Enter letter: \")\n",
    "if l=='A' or l=='E' or l=='I' or l=='O' or l=='U'or l=='a' or l=='e' or l=='i' or l=='o'or l=='u':\n",
    "    print(\"Letter \"+l+\" is a vowel\")\n",
    "else:\n",
    "    print(\"Letter \"+l+\" is not a vowel\")"
   ]
  },
  {
   "cell_type": "code",
   "execution_count": 25,
   "metadata": {},
   "outputs": [
    {
     "name": "stdout",
     "output_type": "stream",
     "text": [
      "Enter height: 4\n",
      "Enter base 4\n",
      "Area of triangle= 8.0\n"
     ]
    }
   ],
   "source": [
    "#program 9\n",
    "h=int(input(\"Enter height: \"))\n",
    "b=int(input(\"Enter base \"))\n",
    "a=1/2*b*h\n",
    "print(\"Area of triangle= \"+str(a))"
   ]
  },
  {
   "cell_type": "code",
   "execution_count": 26,
   "metadata": {},
   "outputs": [
    {
     "name": "stdout",
     "output_type": "stream",
     "text": [
      "Please enter principal amount: 10000\n",
      "Please Enter Rate of interest in %: 0.1\n",
      "Enter number of years for investment: 5\n",
      "After 5 years your principal amount 10000 over an interest rate of 0.1 % will be 16105.100000000006\n"
     ]
    }
   ],
   "source": [
    "#program 10\n",
    "p=int(input(\"Please enter principal amount: \"))\n",
    "r=float(input(\"Please Enter Rate of interest in %: \"))\n",
    "t=int(input(\"Enter number of years for investment: \"))\n",
    "a=p*pow((1+r),t)\n",
    "print(\"After \"+str(t)+\" years your principal amount \"+str(p)+\" over an interest rate of \"+str(r)+\" % will be \"+str(a))"
   ]
  },
  {
   "cell_type": "code",
   "execution_count": null,
   "metadata": {},
   "outputs": [],
   "source": []
  }
 ],
 "metadata": {
  "kernelspec": {
   "display_name": "Python 3",
   "language": "python",
   "name": "python3"
  },
  "language_info": {
   "codemirror_mode": {
    "name": "ipython",
    "version": 3
   },
   "file_extension": ".py",
   "mimetype": "text/x-python",
   "name": "python",
   "nbconvert_exporter": "python",
   "pygments_lexer": "ipython3",
   "version": "3.7.3"
  }
 },
 "nbformat": 4,
 "nbformat_minor": 2
}
