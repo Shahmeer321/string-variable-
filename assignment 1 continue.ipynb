{
 "cells": [
  {
   "cell_type": "code",
   "execution_count": 3,
   "metadata": {},
   "outputs": [
    {
     "name": "stdout",
     "output_type": "stream",
     "text": [
      "Enter co-ordinate x1: 2\n",
      "Enter co-ordinate x2: 4\n",
      "Enter co-ordinate y1: 4\n",
      "Enter co-ordinate y2: 4\n",
      "Distance between points (2,4) and (4,4) is 2.0\n"
     ]
    }
   ],
   "source": [
    "#program 11\n",
    "from math import *\n",
    "x1=int(input(\"Enter co-ordinate x1: \"))\n",
    "x2=int(input(\"Enter co-ordinate x2: \"))\n",
    "y1=int(input(\"Enter co-ordinate y1: \"))\n",
    "y2=int(input(\"Enter co-ordinate y2: \"))\n",
    "d=sqrt(pow(x2-x1,2)+pow(y2-y1,2))\n",
    "print(\"Distance between points (\"+str(x1)+\",\"+str(y1)+\") and (\"+str(x2)+\",\"+str(y2)+\") is \"+str(d))"
   ]
  },
  {
   "cell_type": "code",
   "execution_count": 4,
   "metadata": {},
   "outputs": [
    {
     "name": "stdout",
     "output_type": "stream",
     "text": [
      "Enter height in feet: 5\n",
      "There are 152.4 cm in 5 feet\n"
     ]
    }
   ],
   "source": [
    "#program 12\n",
    "h=int(input(\"Enter height in feet: \"))\n",
    "a=30.48*h\n",
    "print(\"There are \"+str(a)+\" cm in \"+str(h)+\" feet\")"
   ]
  },
  {
   "cell_type": "code",
   "execution_count": 7,
   "metadata": {},
   "outputs": [
    {
     "name": "stdout",
     "output_type": "stream",
     "text": [
      "Enter your height in cm: 180\n",
      "Enter your weight in kg: 75\n",
      "Your body mass index is:  23.148148148148145\n"
     ]
    }
   ],
   "source": [
    "#program 13\n",
    "h=int(input(\"Enter your height in cm: \"))\n",
    "w=int(input(\"Enter your weight in kg: \"))\n",
    "h=h/100\n",
    "print(\"Your body mass index is: \", w/(h * h))"
   ]
  },
  {
   "cell_type": "code",
   "execution_count": 8,
   "metadata": {},
   "outputs": [
    {
     "name": "stdout",
     "output_type": "stream",
     "text": [
      "Enter value of n: 5\n",
      "Sum of 5 Positive nos are 15.0\n"
     ]
    }
   ],
   "source": [
    "#program 14\n",
    "n=int(input(\"Enter value of n: \"))\n",
    "sum=(n*(n+1))/2\n",
    "print(\"Sum of \"+str(n)+\" Positive nos are \"+str(sum))"
   ]
  },
  {
   "cell_type": "code",
   "execution_count": 9,
   "metadata": {},
   "outputs": [
    {
     "name": "stdout",
     "output_type": "stream",
     "text": [
      "Enter a number: 15\n",
      "The total sum of digits is:  6\n"
     ]
    }
   ],
   "source": [
    "#program 15\n",
    "n=int(input(\"Enter a number: \"))\n",
    "tot=0\n",
    "while(n>0):\n",
    "    dig=n%10\n",
    "    tot=tot+dig\n",
    "    n=n//10\n",
    "print(\"The total sum of digits is: \",tot)"
   ]
  },
  {
   "cell_type": "code",
   "execution_count": 10,
   "metadata": {},
   "outputs": [
    {
     "name": "stdout",
     "output_type": "stream",
     "text": [
      "Enter a number: 1234\n",
      "The total sum of digits is:  10\n"
     ]
    }
   ],
   "source": [
    "#program 15\n",
    "n=int(input(\"Enter a number: \"))\n",
    "tot=0\n",
    "while(n>0):\n",
    "    dig=n%10\n",
    "    tot=tot+dig\n",
    "    n=n//10\n",
    "print(\"The total sum of digits is: \",tot)"
   ]
  },
  {
   "cell_type": "code",
   "execution_count": 31,
   "metadata": {},
   "outputs": [
    {
     "name": "stdout",
     "output_type": "stream",
     "text": [
      "Enter a decimal no. : 5\n",
      "1 0 1 "
     ]
    }
   ],
   "source": [
    "#program 16\n",
    "def decimalToBinary(n):  \n",
    "  \n",
    "    if(n > 1):  \n",
    "        decimalToBinary(n//2)  \n",
    "  \n",
    "      \n",
    "    print(n%2, end=' ') \n",
    "    \n",
    "    \n",
    "if __name__ == '__main__':  \n",
    "    decimalToBinary(int(input(\"Enter a decimal no. : \")))\n",
    "    "
   ]
  },
  {
   "cell_type": "code",
   "execution_count": 32,
   "metadata": {},
   "outputs": [
    {
     "name": "stdout",
     "output_type": "stream",
     "text": [
      "Enter a decimal no. : 32\n",
      "1 0 0 0 0 0 "
     ]
    }
   ],
   "source": [
    "#program 16\n",
    "def decimalToBinary(n):  \n",
    "  \n",
    "    if(n > 1):  \n",
    "        decimalToBinary(n//2)  \n",
    "  \n",
    "      \n",
    "    print(n%2, end=' ') \n",
    "    \n",
    "    \n",
    "if __name__ == '__main__':  \n",
    "    decimalToBinary(int(input(\"Enter a decimal no. : \")))\n",
    "    "
   ]
  },
  {
   "cell_type": "code",
   "execution_count": 34,
   "metadata": {},
   "outputs": [
    {
     "name": "stdout",
     "output_type": "stream",
     "text": [
      "13\n"
     ]
    }
   ],
   "source": [
    "#program 17\n",
    "def binaryToDecimal(n): \n",
    "    return int(n,2) \n",
    "\n",
    "if __name__ == '__main__': \n",
    "    print(binaryToDecimal('1101')) "
   ]
  },
  {
   "cell_type": "code",
   "execution_count": 35,
   "metadata": {},
   "outputs": [
    {
     "name": "stdout",
     "output_type": "stream",
     "text": [
      "9\n"
     ]
    }
   ],
   "source": [
    "#program 17\n",
    "def binaryToDecimal(n): \n",
    "    return int(n,2) \n",
    "\n",
    "if __name__ == '__main__': \n",
    "    print(binaryToDecimal('1001')) "
   ]
  },
  {
   "cell_type": "code",
   "execution_count": 41,
   "metadata": {},
   "outputs": [
    {
     "name": "stdout",
     "output_type": "stream",
     "text": [
      "Enter string::QuickBrownFoxJumpsovertheDog\n",
      "Number of vowels are: 9\n",
      "Number of consonant are: 19\n"
     ]
    }
   ],
   "source": [
    "#program 18\n",
    "string=input(\"Enter string:\")\n",
    "vowels=0\n",
    "c=0\n",
    "for i in string:\n",
    "      if(i=='a' or i=='e' or i=='i' or i=='o' or i=='u' or i=='A' or i=='E' or i=='I' or i=='O' or i=='U'):\n",
    "            vowels=vowels+1\n",
    "      \n",
    "      else: \n",
    "        c=c+1\n",
    "    \n",
    "    \n",
    "print(\"Number of vowels are: \" +str(vowels))\n",
    "print(\"Number of consonant are: \"+str(c-1) )"
   ]
  },
  {
   "cell_type": "code",
   "execution_count": 49,
   "metadata": {},
   "outputs": [
    {
     "name": "stdout",
     "output_type": "stream",
     "text": [
      "It is palindrome\n"
     ]
    }
   ],
   "source": [
    "#program 19\n",
    "my_str = 'AHA'\n",
    "rev_str = reversed(my_str)\n",
    "if list(my_str) == list(rev_str):\n",
    "   print(\"It is palindrome\")\n",
    "else:\n",
    "   print(\"It is not palindrome\")\n",
    "    \n"
   ]
  },
  {
   "cell_type": "code",
   "execution_count": 50,
   "metadata": {},
   "outputs": [
    {
     "name": "stdout",
     "output_type": "stream",
     "text": [
      "It is not palindrome\n"
     ]
    }
   ],
   "source": [
    "#program 19\n",
    "my_str = 'Hello'\n",
    "rev_str = reversed(my_str)\n",
    "if list(my_str) == list(rev_str):\n",
    "   print(\"It is palindrome\")\n",
    "else:\n",
    "   print(\"It is not palindrome\")\n",
    "    "
   ]
  },
  {
   "cell_type": "code",
   "execution_count": 56,
   "metadata": {},
   "outputs": [
    {
     "name": "stdout",
     "output_type": "stream",
     "text": [
      "Enter string:Python 3.2\n",
      "digits= 2\n",
      "Letters= 6\n",
      "Spaces= 1\n",
      "Special Characters= 1\n"
     ]
    }
   ],
   "source": [
    "#program 20\n",
    "string=input(\"Enter string:\")\n",
    "count1=0\n",
    "count2=0\n",
    "count3=0\n",
    "count4=0\n",
    "for i in string:\n",
    "    if(i.isdigit()):\n",
    "            count1=count1+1\n",
    "    elif (i.isalpha()):\n",
    "            count2=count2+1\n",
    "    elif (i==' '):\n",
    "                count3=count3+1\n",
    "    else:\n",
    "                count4=count4+1\n",
    "    \n",
    "print(\"digits=\",count1)\n",
    "print(\"Letters=\",count2)\n",
    "print(\"Spaces=\",count3)\n",
    "print(\"Special Characters=\",count4)"
   ]
  },
  {
   "cell_type": "code",
   "execution_count": 64,
   "metadata": {},
   "outputs": [
    {
     "name": "stdout",
     "output_type": "stream",
     "text": [
      "\n",
      "\n",
      "1 \n",
      "\n",
      "2 2 \n",
      "\n",
      "3 3 3 \n",
      "\n",
      "4 4 4 4 \n",
      "\n",
      "5 5 5 5 5 \n",
      "\n",
      "6 6 6 6 6 6 \n",
      "\n",
      "7 7 7 7 7 7 7 \n",
      "\n",
      "8 8 8 8 8 8 8 8 \n",
      "\n",
      "9 9 9 9 9 9 9 9 9 \n",
      "\n"
     ]
    }
   ],
   "source": [
    "#program 21\n",
    "for num in range(10):\n",
    "    for i in range(num):\n",
    "        print (num, end=\" \")\n",
    "        \n",
    "       \n",
    "    print(\"\\n\")\n",
    "        \n",
    "        \n"
   ]
  },
  {
   "cell_type": "code",
   "execution_count": 65,
   "metadata": {},
   "outputs": [
    {
     "name": "stdout",
     "output_type": "stream",
     "text": [
      "Enter max star to be display on single line5\n",
      "* \n",
      "* * \n",
      "* * * \n",
      "* * * * \n",
      "* * * * * \n",
      "* * * * \n",
      "* * * \n",
      "* * \n",
      "* \n",
      "\n"
     ]
    }
   ],
   "source": [
    "rows = input(\"Enter max star to be display on single line\")\n",
    "rows = int (rows)\n",
    "for i in range (0, rows):\n",
    "    for j in range(0, i + 1):\n",
    "        print(\"*\", end=' ')\n",
    "    print(\"\\r\")\n",
    "for i in range (rows, 0, -1):\n",
    "    for j in range(0, i -1):\n",
    "        print(\"*\", end=' ')\n",
    "    print(\"\\r\")"
   ]
  },
  {
   "cell_type": "code",
   "execution_count": 3,
   "metadata": {},
   "outputs": [
    {
     "name": "stdout",
     "output_type": "stream",
     "text": [
      "Enter the start date in (dd/mmm/yyyy) format : 12/12/2018\n",
      "Enter the end date in (dd/mmm/yyyy) format : 16/12/2018\n",
      "There are 4 days in between 12/12/2018 and 16/12/2018\n"
     ]
    }
   ],
   "source": [
    " #program 4\n",
    "from datetime import datetime\n",
    "start = input('Enter the start date in (dd/mmm/yyyy) format : ')\n",
    "end = input('Enter the end date in (dd/mmm/yyyy) format : ')\n",
    "d_format = \"%d/%m/%Y\"\n",
    "a = datetime.strptime(start, d_format)\n",
    "b = datetime.strptime(end, d_format)\n",
    "print(\"There are {} days in between {} and {}\".format((b-a).days,start,end))\n",
    "\n"
   ]
  },
  {
   "cell_type": "code",
   "execution_count": 1,
   "metadata": {},
   "outputs": [
    {
     "name": "stdout",
     "output_type": "stream",
     "text": [
      "1  \n",
      "1 2  \n",
      "1 2 3  \n",
      "1 2 3 4  \n",
      "1 2 3 4 5  \n",
      "1 2 3 4  \n",
      "1 2 3  \n",
      "1 2  \n",
      "1  \n"
     ]
    }
   ],
   "source": [
    "#program 22\n",
    "i = 6\n",
    "d = 0\n",
    "for x in range(1,i):\n",
    "    for y in range(1, x + 1):\n",
    "        print (y , end = \" \")\n",
    "    print(\" \")\n",
    "for r in range(4,d,-1):\n",
    "    for c in range(1, r + 1):\n",
    "        print (c , end = \" \")\n",
    "    print(\" \")"
   ]
  }
 ],
 "metadata": {
  "kernelspec": {
   "display_name": "Python 3",
   "language": "python",
   "name": "python3"
  },
  "language_info": {
   "codemirror_mode": {
    "name": "ipython",
    "version": 3
   },
   "file_extension": ".py",
   "mimetype": "text/x-python",
   "name": "python",
   "nbconvert_exporter": "python",
   "pygments_lexer": "ipython3",
   "version": "3.7.3"
  }
 },
 "nbformat": 4,
 "nbformat_minor": 2
}
